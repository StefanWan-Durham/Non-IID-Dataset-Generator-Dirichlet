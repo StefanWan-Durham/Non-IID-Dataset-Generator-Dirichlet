{
 "cells": [
  {
   "cell_type": "markdown",
   "metadata": {},
   "source": [
    "## Non-IID-Dataset-Generator-Direc-Delta\n",
    "\n",
    "THIS code supports researchers who study federated learning with non-iid datasets."
   ]
  },
  {
   "cell_type": "code",
   "execution_count": 23,
   "metadata": {},
   "outputs": [],
   "source": [
    "import matplotlib.pyplot as plt\n",
    "import seaborn as sns\n",
    "import pandas as pd\n",
    "import numpy as np\n",
    "import pandas as pd\n",
    "from torchvision import datasets, transforms\n",
    "import torch\n",
    "\n",
    "iid_data =  datasets.FashionMNIST(root='data/FMNIST',download=True,train=True) \n",
    "num_classes = len(iid_data.classes)\n",
    "alpha = 1 # if alpha is small --> increasing non-iidness, or if alpha is large --> increasing iidness\n",
    "num_worker = 10 # Number of client in federated learning\n"
   ]
  },
  {
   "cell_type": "code",
   "execution_count": 24,
   "metadata": {},
   "outputs": [],
   "source": [
    "class Non_iid(Dataset): \n",
    "    def __init__(self, x, y):\n",
    "        self.x_data = x.unsqueeze(1).to(torch.float32)\n",
    "        self.y_data = y.to(torch.int64)\n",
    "        self.batch_size = 32 # set batchsize in here\n",
    "        self.cuda_available = torch.cuda.is_available()\n",
    "        \n",
    "    # Return the number of data \n",
    "    def __len__(self): \n",
    "        return len(self.x_data)\n",
    "    \n",
    "    # Sampling\n",
    "    def __getitem__(self): \n",
    "        idx = np.random.randint(low = 0, high= len(self.x_data), size=self.batch_size) # random_index\n",
    "        x = self.x_data[idx]\n",
    "        y = self.y_data[idx]\n",
    "        if self.cuda_available :\n",
    "            return x.cuda(), y.cuda()\n",
    "        else:\n",
    "            return x, y\n",
    "        "
   ]
  },
  {
   "cell_type": "markdown",
   "metadata": {},
   "source": [
    "## Generating-Non-iid-Dataset"
   ]
  },
  {
   "cell_type": "code",
   "execution_count": 25,
   "metadata": {},
   "outputs": [],
   "source": [
    "\n",
    "idx   = [ torch.where(iid_data.train_labels == i) for i in range(num_classes) ] \n",
    "data  = [ iid_data.data[idx[i][0]] for i in range(num_classes) ] \n",
    "label = [ torch.ones(len(data[i]))* i for i in range(num_classes)]\n",
    "\n",
    "s = np.random.dirichlet(np.ones(num_classes)*alpha, num_worker)\n",
    "data_dist = np.zeros((num_worker,num_classes))\n",
    "\n",
    "for j in range(num_worker):\n",
    "    data_dist[j] = ((s[j]*len(data[0])).astype('int') / (s[j]*len(data[0])).astype('int').sum() * len(data[0])).astype('int')\n",
    "    data_num     = data_dist[j].sum()\n",
    "    data_dist[j][np.random.randint(low=0,high=num_classes)] += ((len(data[0]) - data_num) )\n",
    "    data_dist    = data_dist.astype('int')\n",
    "    \n",
    "X = []\n",
    "Y = []\n",
    "for j in range(num_worker):\n",
    "    x_data = []\n",
    "    y_data = []\n",
    "    for i in range(num_classes):\n",
    "        if data_dist[j][i] != 0:\n",
    "            d_index = np.random.randint(low=0, high=len(data[i]), size=data_dist[j][i])\n",
    "            x_data.append(data[i][d_index])\n",
    "            y_data.append(label[i][d_index])\n",
    "    X.append(torch.cat(x_data))\n",
    "    Y.append(torch.cat(y_data))\n",
    "Non_iid_dataset  = [Non_iid(X[j],Y[j]) for j in range(num_worker)]"
   ]
  },
  {
   "cell_type": "code",
   "execution_count": 27,
   "metadata": {},
   "outputs": [],
   "source": [
    "# Sampling first client's train data\n",
    "data_, label_ = Non_iid_dataset[0].__getitem__()"
   ]
  }
 ],
 "metadata": {
  "kernelspec": {
   "display_name": "Python 3",
   "language": "python",
   "name": "python3"
  },
  "language_info": {
   "codemirror_mode": {
    "name": "ipython",
    "version": 3
   },
   "file_extension": ".py",
   "mimetype": "text/x-python",
   "name": "python",
   "nbconvert_exporter": "python",
   "pygments_lexer": "ipython3",
   "version": "3.6.5"
  }
 },
 "nbformat": 4,
 "nbformat_minor": 4
}
